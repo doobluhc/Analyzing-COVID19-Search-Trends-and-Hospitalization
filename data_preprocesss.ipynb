{
 "cells": [
  {
   "cell_type": "code",
   "execution_count": 21,
   "metadata": {},
   "outputs": [],
   "source": [
    "import pandas as pd \n",
    "import numpy as np "
   ]
  },
  {
   "cell_type": "code",
   "execution_count": 23,
   "metadata": {},
   "outputs": [],
   "source": [
    "# load the data into dataframes\n",
    "data_search_trend_US = pd.read_csv(\"/Users/chengchen/Documents/GitHub/Analyzing-COVID19-Search-Trends-and-Hospitalization/2020_US_weekly_symptoms_dataset.csv\")\n",
    "data_hospitalization = pd.read_csv(\"/Users/chengchen/Documents/GitHub/Analyzing-COVID19-Search-Trends-and-Hospitalization/hospitalization_dataset.csv\")"
   ]
  },
  {
   "cell_type": "code",
   "execution_count": 24,
   "metadata": {},
   "outputs": [],
   "source": [
    "#remove symptoms that have no search data\n",
    "data_search_trend_US.dropna(thresh=0, axis=1)\n",
    "del data_search_trend_US['sub_region_2']\n",
    "del data_search_trend_US['sub_region_2_code']\n",
    "data_search_trend_US = data_search_trend_US.fillna(0)"
   ]
  },
  {
   "cell_type": "code",
   "execution_count": 25,
   "metadata": {},
   "outputs": [],
   "source": [
    "#get the total number of regions \n",
    "regions = {}\n",
    "for index,content in data_search_trend_US.iterrows():\n",
    "    if content['sub_region_1_code'] not in regions:\n",
    "        regions.update({content['sub_region_1_code']: 1})   "
   ]
  },
  {
   "cell_type": "code",
   "execution_count": 26,
   "metadata": {},
   "outputs": [],
   "source": [
    "#get the hospitalization in the USA\n",
    "data_hospitalization_US = data_hospitalization[data_hospitalization['open_covid_region_code'].isin(list(regions.keys()))]"
   ]
  },
  {
   "cell_type": "code",
   "execution_count": 27,
   "metadata": {},
   "outputs": [],
   "source": [
    "#remove redundant features\n",
    "data_hospitalization_US = data_hospitalization_US[['open_covid_region_code','region_name','date','hospitalized_cumulative','hospitalized_new']]"
   ]
  },
  {
   "cell_type": "code",
   "execution_count": 28,
   "metadata": {},
   "outputs": [],
   "source": [
    "#reset the index\n",
    "data_hospitalization_US = data_hospitalization_US[(data_hospitalization_US.T != 0).any()].reset_index()"
   ]
  },
  {
   "cell_type": "code",
   "execution_count": 29,
   "metadata": {},
   "outputs": [],
   "source": [
    "#set index to date index\n",
    "data_hospitalization_US['Date'] = pd.to_datetime(data_hospitalization_US['date'])\n",
    "data_hospitalization_US = data_hospitalization_US.set_index('Date')\n",
    "data_hospitalization_US = data_hospitalization_US.drop(['date'], axis=1)"
   ]
  },
  {
   "cell_type": "code",
   "execution_count": 30,
   "metadata": {},
   "outputs": [],
   "source": [
    "# add a new column \n",
    "data_search_trend_US.loc[:,'hospitalized_new'] = 0"
   ]
  },
  {
   "cell_type": "code",
   "execution_count": 31,
   "metadata": {},
   "outputs": [],
   "source": [
    "#change the value of hospitalized_new at the correct cell\n",
    "for region in regions: \n",
    "    data_to_append = data_hospitalization_US[data_hospitalization_US['open_covid_region_code']==region]['hospitalized_new']\n",
    "    data_to_append = data_to_append.resample('W', label='left', loffset=pd.DateOffset(days=1)).sum()\n",
    "    for index,values in data_to_append.iteritems():\n",
    "        if data_search_trend_US[(data_search_trend_US['date']==str(index.date()))&(data_search_trend_US['open_covid_region_code']==region)].index.values.astype(int).size==0:\n",
    "            continue\n",
    "        ind = data_search_trend_US[(data_search_trend_US['date']==str(index.date()))&(data_search_trend_US['open_covid_region_code']==region)].index.values.astype(int)[0]\n",
    "        data_search_trend_US.at[ind,'hospitalized_new'] = values\n",
    "        ß"
   ]
  },
  {
   "cell_type": "code",
   "execution_count": 32,
   "metadata": {},
   "outputs": [],
   "source": [
    "del data_search_trend_US['sub_region_1_code']\n",
    "del data_search_trend_US['Unnamed: 0']"
   ]
  },
  {
   "cell_type": "code",
   "execution_count": 34,
   "metadata": {},
   "outputs": [],
   "source": [
    "data_search_trend_US = data_search_trend_US.loc[:, (data_search_trend_US==0).mean() < .7]"
   ]
  },
  {
   "cell_type": "code",
   "execution_count": 37,
   "metadata": {},
   "outputs": [],
   "source": [
    "#remove rows and cols that has over 80% of zero entries\n",
    "data_search_trend_US = data_search_trend_US.loc[:, (data_search_trend_US==0).mean() < .8]\n",
    "data_search_trend_US = data_search_trend_US[data_search_trend_US.astype('bool').mean(axis=1)>=0.2]"
   ]
  },
  {
   "cell_type": "code",
   "execution_count": 39,
   "metadata": {},
   "outputs": [],
   "source": [
    "data_search_trend_US.to_csv('/Users/chengchen/Desktop/merged_dataset.csv')"
   ]
  }
 ],
 "metadata": {
  "kernelspec": {
   "display_name": "Python 3",
   "language": "python",
   "name": "python3"
  },
  "language_info": {
   "codemirror_mode": {
    "name": "ipython",
    "version": 3
   },
   "file_extension": ".py",
   "mimetype": "text/x-python",
   "name": "python",
   "nbconvert_exporter": "python",
   "pygments_lexer": "ipython3",
   "version": "3.7.6"
  },
  "toc": {
   "base_numbering": 1,
   "nav_menu": {},
   "number_sections": true,
   "sideBar": true,
   "skip_h1_title": false,
   "title_cell": "Table of Contents",
   "title_sidebar": "Contents",
   "toc_cell": false,
   "toc_position": {
    "height": "calc(100% - 180px)",
    "left": "10px",
    "top": "150px",
    "width": "307.2px"
   },
   "toc_section_display": true,
   "toc_window_display": false
  }
 },
 "nbformat": 4,
 "nbformat_minor": 4
}
